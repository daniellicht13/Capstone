{
 "cells": [
  {
   "cell_type": "code",
   "execution_count": 1,
   "metadata": {},
   "outputs": [],
   "source": [
    "import requests        # for making http requests to binance\n",
    "import json            # for parsing what binance sends back to us\n",
    "import pandas as pd    # for storing and manipulating the data we get back\n",
    "import numpy as np     # numerical python\n",
    "\n",
    "import matplotlib.pyplot as plt # for charts and such\n",
    "    \n",
    "import datetime as dt  # for dealing with times\n",
    "\n",
    "import time\n",
    "from datetime import date, timedelta, datetime\n"
   ]
  },
  {
   "cell_type": "markdown",
   "metadata": {},
   "source": [
    "## Historical Cryptocurrency Data"
   ]
  },
  {
   "cell_type": "code",
   "execution_count": 2,
   "metadata": {},
   "outputs": [],
   "source": [
    "#URL for binance API\n",
    "root_url = 'https://api.binance.com/api/v1/klines'\n",
    "start_date = 93 #95 as of 3/2/21. Adjust by number of days since 3/1. curr_pct_change below should start 1/22/20\n",
    "end_date = 469 #497 as of 3/2/21.\n"
   ]
  },
  {
   "cell_type": "code",
   "execution_count": 3,
   "metadata": {},
   "outputs": [],
   "source": [
    "#function to pull data from binance API\n",
    "def get_bars(symbol, interval = '1d'):\n",
    "    url = root_url + '?symbol=' + symbol + '&interval=' + interval\n",
    "    data = json.loads(requests.get(url).text)\n",
    "    df = pd.DataFrame(data)\n",
    "    df.columns = ['open_time',\n",
    "                 'open', 'high', 'low', 'close', 'volume',\n",
    "                 'close_time', 'qav', 'num_trades',\n",
    "                 'taker_base_vol', 'taker_quote_vol', 'ignore']\n",
    "    df.index = [dt.datetime.fromtimestamp(x/1000.0) for x in df.close_time]\n",
    "    df = df[[ 'open', 'high', 'low', 'close', 'volume', 'num_trades']]\n",
    "    return df"
   ]
  },
  {
   "cell_type": "markdown",
   "metadata": {},
   "source": [
    "#### Currency Sector"
   ]
  },
  {
   "cell_type": "code",
   "execution_count": 4,
   "metadata": {},
   "outputs": [],
   "source": [
    "#array to store each coin's closing prices series\n",
    "coins = []\n",
    "#creates Bitcoin Dataframe\n",
    "btcusdt = get_bars('BTCUSDT')\n",
    "#creates Bitcoin Cash Dataframe\n",
    "bchusdt = get_bars('BCHUSDT')\n",
    "#creates Litcoin Dataframe\n",
    "ltcusdt = get_bars('LTCUSDT')\n",
    "\n",
    "#create Pandas series for each coin's closing prices\n",
    "btcclose = btcusdt.close.astype(float)\n",
    "bchclose = bchusdt.close.astype(float)\n",
    "ltcclose = ltcusdt.close.astype(float)\n",
    "coins.extend([btcclose, bchclose, ltcclose])\n",
    "\n",
    "currency_agg = pd.DataFrame([btcclose.pct_change(), bchclose.pct_change(), ltcclose.pct_change()])\n",
    "curr_pct_change = currency_agg.groupby(currency_agg.index).mean()\n"
   ]
  },
  {
   "cell_type": "code",
   "execution_count": 5,
   "metadata": {},
   "outputs": [
    {
     "data": {
      "text/plain": [
       "2020-01-22 17:59:59.999    0.007903\n",
       "2020-01-23 17:59:59.999   -0.055357\n",
       "2020-01-24 17:59:59.999   -0.006028\n",
       "2020-01-25 17:59:59.999   -0.019910\n",
       "2020-01-26 17:59:59.999    0.070645\n",
       "                             ...   \n",
       "2021-01-27 17:59:59.999   -0.091064\n",
       "2021-01-28 17:59:59.999    0.086776\n",
       "2021-01-29 17:59:59.999    0.014194\n",
       "2021-01-30 17:59:59.999    0.005092\n",
       "2021-01-31 17:59:59.999   -0.035544\n",
       "Name: close, Length: 376, dtype: float64"
      ]
     },
     "execution_count": 5,
     "metadata": {},
     "output_type": "execute_result"
    }
   ],
   "source": [
    "curr_pct_change = curr_pct_change.loc[\"close\"].iloc[start_date:end_date]\n",
    "# series.loc[[\"2020-01-22 17:59:59.999\",\"2021-02-03 17:59:59.999\"]]\n",
    "curr_pct_change\n"
   ]
  },
  {
   "cell_type": "markdown",
   "metadata": {},
   "source": [
    "#### Infrastructure Sector"
   ]
  },
  {
   "cell_type": "code",
   "execution_count": 6,
   "metadata": {},
   "outputs": [
    {
     "data": {
      "text/plain": [
       "2020-01-22 17:59:59.999   -0.004630\n",
       "2020-01-23 17:59:59.999   -0.036765\n",
       "2020-01-24 17:59:59.999    0.019076\n",
       "2020-01-25 17:59:59.999   -0.030432\n",
       "2020-01-26 17:59:59.999    0.042557\n",
       "                             ...   \n",
       "2021-01-27 17:59:59.999   -0.078110\n",
       "2021-01-28 17:59:59.999    0.087187\n",
       "2021-01-29 17:59:59.999    0.017557\n",
       "2021-01-30 17:59:59.999    0.041003\n",
       "2021-01-31 17:59:59.999   -0.033722\n",
       "Name: close, Length: 376, dtype: float64"
      ]
     },
     "execution_count": 6,
     "metadata": {},
     "output_type": "execute_result"
    }
   ],
   "source": [
    "#creates Etherium Dataframe\n",
    "ethusdt = get_bars('ETHUSDT')\n",
    "#creates Cardano Dataframe\n",
    "adausdt = get_bars('ADAUSDT')\n",
    "#creates EOS Dataframe\n",
    "eosusdt = get_bars('EOSUSDT')\n",
    "\n",
    "\n",
    "ethclose = ethusdt.close.astype(float)\n",
    "adaclose = adausdt.close.astype(float)\n",
    "eosclose = eosusdt.close.astype(float)\n",
    "\n",
    "#get average % change\n",
    "coins.extend([ethclose, adaclose, eosclose])\n",
    "infra_agg = pd.DataFrame([ethclose.pct_change(), adaclose.pct_change(), eosclose.pct_change()])\n",
    "infra_pct_change = infra_agg.groupby(infra_agg.index).mean()\n",
    "test_2019 = infra_pct_change\n",
    "infra_pct_change = infra_pct_change.loc[\"close\"].iloc[start_date:end_date]\n",
    "infra_pct_change"
   ]
  },
  {
   "cell_type": "code",
   "execution_count": 7,
   "metadata": {},
   "outputs": [],
   "source": [
    "test_2019 = test_2019.loc[\"close\"].iloc[0:start_date]"
   ]
  },
  {
   "cell_type": "markdown",
   "metadata": {},
   "source": [
    "#### Financial Sector"
   ]
  },
  {
   "cell_type": "code",
   "execution_count": 8,
   "metadata": {},
   "outputs": [],
   "source": [
    "#creates Chainlink Dataframe\n",
    "linkusdt = get_bars('LINKUSDT')\n",
    "#creates BNB Dataframe\n",
    "bnbusdt = get_bars('BNBUSDT')\n",
    "#creates 0x Dataframe\n",
    "zrxusdt = get_bars('ZRXUSDT')\n",
    "\n",
    "\n",
    "linkclose = linkusdt.close.astype(float)\n",
    "bnbclose = bnbusdt.close.astype(float)\n",
    "zrxclose = zrxusdt.close.astype(float)\n",
    "coins.extend([linkclose, bnbclose, zrxclose])\n",
    "\n",
    "#get average % change\n",
    "coins.extend([ethclose, adaclose, eosclose])\n",
    "fin_agg = pd.DataFrame([linkclose.pct_change(), bnbclose.pct_change(), zrxclose.pct_change()])\n",
    "fin_pct_change = fin_agg.groupby(fin_agg.index).mean()\n",
    "fin_pct_change = fin_pct_change.loc[\"close\"].iloc[start_date:end_date]\n"
   ]
  },
  {
   "cell_type": "markdown",
   "metadata": {},
   "source": [
    "#### Services Sector"
   ]
  },
  {
   "cell_type": "code",
   "execution_count": 9,
   "metadata": {},
   "outputs": [],
   "source": [
    "#creates Numeraire Dataframe\n",
    "nmrusdt = get_bars('NMRUSDT')\n",
    "#creates Enjin Coin Dataframe\n",
    "enjusdt = get_bars('ENJUSDT')\n",
    "#creates Siacoin Dataframe\n",
    "scusdt = get_bars('SCUSDT')\n",
    "\n",
    "\n",
    "nmrclose = nmrusdt.close.astype(float)\n",
    "enjclose = enjusdt.close.astype(float)\n",
    "scclose = scusdt.close.astype(float)\n",
    "coins.extend([nmrclose, enjclose, scclose])\n",
    "\n",
    "#get average % change\n",
    "coins.extend([ethclose, adaclose, eosclose])\n",
    "serv_agg = pd.DataFrame([nmrclose.pct_change(), enjclose.pct_change(), scclose.pct_change()])\n",
    "serv_pct_change = serv_agg.groupby(serv_agg.index).mean()\n",
    "serv_pct_change = serv_pct_change.loc[\"close\"].iloc[start_date:end_date]\n"
   ]
  },
  {
   "cell_type": "markdown",
   "metadata": {},
   "source": [
    "#### Media and Entertainment Sector"
   ]
  },
  {
   "cell_type": "code",
   "execution_count": 10,
   "metadata": {},
   "outputs": [],
   "source": [
    "#creates Basic Attention Dataframe\n",
    "batusdt = get_bars('BATUSDT')\n",
    "#creates Steem Dataframe\n",
    "steembtc = get_bars('STEEMBTC')\n",
    "#convert from steem/btc to steem/usd \n",
    "steemusdt = steembtc[['open', 'high', 'low', 'close']].astype('float') * btcusdt[['open', 'high', 'low', 'close']].astype('float')\n",
    "#creates Fun Fair Dataframe\n",
    "funusdt = get_bars('FUNUSDT')\n",
    "\n",
    "\n",
    "batclose = batusdt.close.astype(float)\n",
    "steemclose = steemusdt.close.astype(float)\n",
    "funclose = funusdt.close.astype(float)\n",
    "coins.extend([batclose, steemclose, funclose])\n",
    "\n",
    "#get average % change\n",
    "coins.extend([ethclose, adaclose, eosclose])\n",
    "med_agg = pd.DataFrame([batclose.pct_change(), steemclose.pct_change(), funclose.pct_change()])\n",
    "med_pct_change = med_agg.groupby(med_agg.index).mean()\n",
    "med_pct_change = med_pct_change.loc[\"close\"].iloc[start_date:end_date]\n"
   ]
  },
  {
   "cell_type": "code",
   "execution_count": 11,
   "metadata": {},
   "outputs": [
    {
     "data": {
      "image/png": "[encoded data removed]",
      "text/plain": [
       "<Figure size 432x288 with 1 Axes>"
      ]
     },
     "metadata": {
      "needs_background": "light"
     },
     "output_type": "display_data"
    }
   ],
   "source": [
    "plt.plot(curr_pct_change, label='Currency')\n",
    "plt.plot(infra_pct_change, label='Infrastructure')\n",
    "plt.plot(fin_pct_change, label='Financial')\n",
    "plt.plot(serv_pct_change, label='Services')\n",
    "plt.plot(med_pct_change, label='Media & Ent.')\n",
    "plt.legend()\n",
    "plt.show()\n",
    "\n",
    "pct_change = [curr_pct_change, infra_pct_change, fin_pct_change, serv_pct_change, med_pct_change]"
   ]
  },
  {
   "cell_type": "markdown",
   "metadata": {},
   "source": [
    "## New COVID-19 Cases and Deaths (Per Million)"
   ]
  },
  {
   "cell_type": "code",
   "execution_count": 80,
   "metadata": {},
   "outputs": [],
   "source": [
    "#CASES\n",
    "new_cases_permil_url = \"https://raw.githubusercontent.com/owid/covid-19-data/master/public/data/jhu/new_cases_per_million.csv\"\n",
    "new_cases_permil = pd.read_csv(new_cases_permil_url)\n",
    "\n",
    "global_cases = new_cases_permil.loc[:][\"World\"]\n",
    "global_cases = global_cases[:376]\n",
    "global_cases.index = date_index\n",
    "global_cases = global_cases.shift(1)\n",
    "global_cases.iloc[0] = 0\n",
    "\n",
    "#DEATHS\n",
    "new_deaths_permil_url = \"https://raw.githubusercontent.com/owid/covid-19-data/master/public/data/jhu/new_deaths_per_million.csv\"\n",
    "new_deaths_permil = pd.read_csv(new_deaths_permil_url)\n",
    "\n",
    "global_deaths = new_deaths_permil.loc[:][\"World\"]\n",
    "global_deaths = global_deaths[:376]\n",
    "global_deaths.index = date_index\n",
    "global_deaths = global_deaths.shift(1)\n",
    "global_deaths.iloc[0] = 0\n",
    "\n"
   ]
  },
  {
   "cell_type": "code",
   "execution_count": 81,
   "metadata": {},
   "outputs": [],
   "source": [
    "# #GLOBAL CONFIRMED COVID DEATHS PLOT\n",
    "# global_deaths_url = 'https://raw.githubusercontent.com/CSSEGISandData/COVID-19/master/csse_covid_19_data/csse_covid_19_time_series/time_series_covid19_deaths_global.csv'\n",
    "# gd_df = pd.read_csv(global_deaths_url, error_bad_lines=False)\n",
    "# plt.plot(gd_df.iloc[0:, 4:].sum(axis=0))\n",
    "\n",
    "# #GATHER AND REINDEX COVID CASE DATA FROM 1/22-10/31\n",
    "# global_cases_url = 'https://raw.githubusercontent.com/CSSEGISandData/COVID-19/master/csse_covid_19_data/csse_covid_19_time_series/time_series_covid19_confirmed_global.csv'\n",
    "# gc_df = pd.read_csv(global_cases_url, error_bad_lines=False)\n",
    "# covid_cases = gc_df.iloc[0:, 4:].sum(axis=0)\n",
    "# covid_cases = covid_cases.shift(1)     #shift to use preceding day as feature in LSTM\n",
    "# covid_cases.iloc[0] = 0\n",
    "# covid_cases = covid_cases.loc[:\"1/31/21\"]\n",
    "# covid_cases = covid_cases.reindex(index=date_index)\n",
    "# print(covid_cases)"
   ]
  },
  {
   "cell_type": "markdown",
   "metadata": {},
   "source": [
    "## COVID-19 Government Stringency"
   ]
  },
  {
   "cell_type": "code",
   "execution_count": 82,
   "metadata": {},
   "outputs": [
    {
     "data": {
      "text/html": [
       "<div>\n",
       "<style scoped>\n",
       "    .dataframe tbody tr th:only-of-type {\n",
       "        vertical-align: middle;\n",
       "    }\n",
       "\n",
       "    .dataframe tbody tr th {\n",
       "        vertical-align: top;\n",
       "    }\n",
       "\n",
       "    .dataframe thead th {\n",
       "        text-align: right;\n",
       "    }\n",
       "</style>\n",
       "<table border=\"1\" class=\"dataframe\">\n",
       "  <thead>\n",
       "    <tr style=\"text-align: right;\">\n",
       "      <th></th>\n",
       "      <th>Entity</th>\n",
       "      <th>Code</th>\n",
       "      <th>Date</th>\n",
       "      <th>stringency_index</th>\n",
       "    </tr>\n",
       "  </thead>\n",
       "  <tbody>\n",
       "    <tr>\n",
       "      <th>0</th>\n",
       "      <td>Afghanistan</td>\n",
       "      <td>AFG</td>\n",
       "      <td>2020-01-01</td>\n",
       "      <td>0.00</td>\n",
       "    </tr>\n",
       "    <tr>\n",
       "      <th>1</th>\n",
       "      <td>Afghanistan</td>\n",
       "      <td>AFG</td>\n",
       "      <td>2020-01-02</td>\n",
       "      <td>0.00</td>\n",
       "    </tr>\n",
       "    <tr>\n",
       "      <th>2</th>\n",
       "      <td>Afghanistan</td>\n",
       "      <td>AFG</td>\n",
       "      <td>2020-01-03</td>\n",
       "      <td>0.00</td>\n",
       "    </tr>\n",
       "    <tr>\n",
       "      <th>3</th>\n",
       "      <td>Afghanistan</td>\n",
       "      <td>AFG</td>\n",
       "      <td>2020-01-04</td>\n",
       "      <td>0.00</td>\n",
       "    </tr>\n",
       "    <tr>\n",
       "      <th>4</th>\n",
       "      <td>Afghanistan</td>\n",
       "      <td>AFG</td>\n",
       "      <td>2020-01-05</td>\n",
       "      <td>0.00</td>\n",
       "    </tr>\n",
       "    <tr>\n",
       "      <th>...</th>\n",
       "      <td>...</td>\n",
       "      <td>...</td>\n",
       "      <td>...</td>\n",
       "      <td>...</td>\n",
       "    </tr>\n",
       "    <tr>\n",
       "      <th>72742</th>\n",
       "      <td>Zimbabwe</td>\n",
       "      <td>ZWE</td>\n",
       "      <td>2021-01-28</td>\n",
       "      <td>84.26</td>\n",
       "    </tr>\n",
       "    <tr>\n",
       "      <th>72743</th>\n",
       "      <td>Zimbabwe</td>\n",
       "      <td>ZWE</td>\n",
       "      <td>2021-01-29</td>\n",
       "      <td>84.26</td>\n",
       "    </tr>\n",
       "    <tr>\n",
       "      <th>72744</th>\n",
       "      <td>Zimbabwe</td>\n",
       "      <td>ZWE</td>\n",
       "      <td>2021-01-30</td>\n",
       "      <td>84.26</td>\n",
       "    </tr>\n",
       "    <tr>\n",
       "      <th>72745</th>\n",
       "      <td>Zimbabwe</td>\n",
       "      <td>ZWE</td>\n",
       "      <td>2021-01-31</td>\n",
       "      <td>84.26</td>\n",
       "    </tr>\n",
       "    <tr>\n",
       "      <th>72746</th>\n",
       "      <td>Zimbabwe</td>\n",
       "      <td>ZWE</td>\n",
       "      <td>2021-02-01</td>\n",
       "      <td>84.26</td>\n",
       "    </tr>\n",
       "  </tbody>\n",
       "</table>\n",
       "<p>72747 rows × 4 columns</p>\n",
       "</div>"
      ],
      "text/plain": [
       "            Entity Code        Date  stringency_index\n",
       "0      Afghanistan  AFG  2020-01-01              0.00\n",
       "1      Afghanistan  AFG  2020-01-02              0.00\n",
       "2      Afghanistan  AFG  2020-01-03              0.00\n",
       "3      Afghanistan  AFG  2020-01-04              0.00\n",
       "4      Afghanistan  AFG  2020-01-05              0.00\n",
       "...            ...  ...         ...               ...\n",
       "72742     Zimbabwe  ZWE  2021-01-28             84.26\n",
       "72743     Zimbabwe  ZWE  2021-01-29             84.26\n",
       "72744     Zimbabwe  ZWE  2021-01-30             84.26\n",
       "72745     Zimbabwe  ZWE  2021-01-31             84.26\n",
       "72746     Zimbabwe  ZWE  2021-02-01             84.26\n",
       "\n",
       "[72747 rows x 4 columns]"
      ]
     },
     "execution_count": 82,
     "metadata": {},
     "output_type": "execute_result"
    }
   ],
   "source": [
    "stringency_df = pd.read_csv('/Users/daniellicht/Downloads/covid-stringency-index-2.csv')\n",
    "stringency_df\n"
   ]
  },
  {
   "cell_type": "code",
   "execution_count": 14,
   "metadata": {},
   "outputs": [],
   "source": [
    "date_to_aggregate_score = {}\n",
    "for i in range(0, len(stringency_df)):\n",
    "    if stringency_df.iloc[i].Date in date_to_aggregate_score:\n",
    "        date_to_aggregate_score[stringency_df.iloc[i].Date][0]+=stringency_df.iloc[i][\"stringency_index\"]\n",
    "        date_to_aggregate_score[stringency_df.iloc[i].Date][1]+=1\n",
    "    else:\n",
    "        date_to_aggregate_score[stringency_df.iloc[i].Date]=[stringency_df.iloc[i][\"stringency_index\"], 1]\n"
   ]
  },
  {
   "cell_type": "code",
   "execution_count": 15,
   "metadata": {},
   "outputs": [],
   "source": [
    "date_to_avg = {}\n",
    "for date in date_to_aggregate_score:\n",
    "    date_to_avg[date]=date_to_aggregate_score[date][0]/date_to_aggregate_score[date][1]\n",
    "\n",
    "del date_to_avg['2021-02-01']\n",
    "del date_to_avg['2021-02-02']\n"
   ]
  },
  {
   "cell_type": "code",
   "execution_count": 16,
   "metadata": {},
   "outputs": [],
   "source": [
    "#IMPORTS FOR LSTM\n",
    "import numpy as np\n",
    "import keras\n",
    "from keras.models import Sequential\n",
    "from keras.optimizers import SGD\n",
    "from keras.losses import mean_absolute_percentage_error\n",
    "from keras.layers import Dense, Dropout, Activation, LSTM, BatchNormalization\n",
    "from keras.callbacks import EarlyStopping\n",
    "from sklearn.preprocessing import MinMaxScaler\n",
    "from sklearn.metrics import mean_squared_error, mean_absolute_error"
   ]
  },
  {
   "cell_type": "markdown",
   "metadata": {},
   "source": [
    "## S&P 500"
   ]
  },
  {
   "cell_type": "code",
   "execution_count": 17,
   "metadata": {},
   "outputs": [],
   "source": [
    "#GATHERING S&P 500 PRICE POINTS\n",
    "import yfinance as yf"
   ]
  },
  {
   "cell_type": "code",
   "execution_count": 18,
   "metadata": {},
   "outputs": [
    {
     "data": {
      "text/plain": [
       "2020-01-22       0.000000\n",
       "2020-01-23    3321.750000\n",
       "2020-01-24    3325.540039\n",
       "2020-01-25    3295.469971\n",
       "2020-01-26            NaN\n",
       "                 ...     \n",
       "2021-01-27    3849.620117\n",
       "2021-01-28    3750.770020\n",
       "2021-01-29    3787.379883\n",
       "2021-01-30    3714.239990\n",
       "2021-01-31            NaN\n",
       "Freq: D, Name: Close, Length: 376, dtype: float64"
      ]
     },
     "execution_count": 18,
     "metadata": {},
     "output_type": "execute_result"
    },
    {
     "data": {
      "image/png": "[encoded data removed]",
      "text/plain": [
       "<Figure size 432x288 with 1 Axes>"
      ]
     },
     "metadata": {
      "needs_background": "light"
     },
     "output_type": "display_data"
    }
   ],
   "source": [
    "GSPC = yf.Ticker(\"^GSPC\")\n",
    "num_days = (dt.date(2021, 2, 1)-dt.date(2020, 1, 22)).days\n",
    "\n",
    "\n",
    "snp = GSPC.history(interval=\"1d\", start=\"2020-01-22\").Close\n",
    "#PLOT OF S&P 500\n",
    "plt.plot(snp)\n",
    "x = dt.date(2020, 1, 22)\n",
    "date_index = pd.date_range(x, periods=num_days, freq='D')\n",
    "\n",
    "snp = snp.reindex(index=date_index)   #gather data from 1/22/20-1/31/21\n",
    "snp = snp.shift(1)     #shift to use preceding day as feature in LSTM\n",
    "snp.iloc[0] = 0\n",
    "snp"
   ]
  },
  {
   "cell_type": "code",
   "execution_count": 19,
   "metadata": {},
   "outputs": [
    {
     "data": {
      "text/plain": [
       "93"
      ]
     },
     "execution_count": 19,
     "metadata": {},
     "output_type": "execute_result"
    }
   ],
   "source": [
    "len(test_2019)"
   ]
  },
  {
   "cell_type": "markdown",
   "metadata": {},
   "source": [
    "## Unemployment data\n",
    "#### Assuming constant daily change over the course of each month"
   ]
  },
  {
   "cell_type": "code",
   "execution_count": 20,
   "metadata": {},
   "outputs": [],
   "source": [
    "#Numbers from statista (https://www.statista.com/statistics/273909/seasonally-adjusted-monthly-unemployment-rate-in-the-us/)\n",
    "#Jan - 3.6\n",
    "#Feb - 3.5\n",
    "#Mar - 4.4\n",
    "#Apr - 14.7\n",
    "#May - 13.3\n",
    "#Jun - 11.1\n",
    "#Jul - 10.2\n",
    "#Aug - 8.4\n",
    "#Sep - 7.8\n",
    "#Oct - 6.9\n",
    "#Nov - 6.7\n",
    "#Dec - 6.7\n",
    "\n",
    "def vals(initial, final, days):\n",
    "    arr = [initial]\n",
    "    daily_change = (final-initial)/days\n",
    "    for _ in range(days-1):\n",
    "        initial+=daily_change\n",
    "        arr.append(initial)\n",
    "    return arr\n",
    "\n",
    "unemployment_vals =  vals(3.6, 3.5, 31) #jan  \n",
    "unemployment_vals += vals(3.5, 4.4, 29) #feb\n",
    "unemployment_vals += vals(4.4, 14.7, 31) #mar\n",
    "unemployment_vals += vals(14.7, 13.3, 30) #apr\n",
    "unemployment_vals += vals(13.3, 11.1, 31) #may\n",
    "unemployment_vals += vals(11.1, 10.2, 30) #jun\n",
    "unemployment_vals += vals(10.2, 8.4, 31) #jul\n",
    "unemployment_vals += vals(8.4, 7.8, 31) #aug\n",
    "unemployment_vals += vals(7.8, 6.9, 30) #sep\n",
    "unemployment_vals += vals(6.9, 6.7, 31) #oct\n",
    "unemployment_vals += vals(6.7, 6.7, 30) #nov\n",
    "unemployment_vals += vals(6.7, 6.7, 31) #dec\n",
    "unemployment_vals += vals(6.7, 6.7, 31) #jan\n",
    "\n",
    "unemployment_vals = unemployment_vals[21:]\n",
    "\n",
    "\n",
    "unemployment = pd.Series(data=unemployment_vals, index=date_index)\n",
    "unemployment = unemployment.shift(1)\n",
    "unemployment.iloc[0]=0\n",
    "# plt.plot(unemployment)\n"
   ]
  },
  {
   "cell_type": "markdown",
   "metadata": {},
   "source": [
    "## Mortgage Rates"
   ]
  },
  {
   "cell_type": "code",
   "execution_count": 47,
   "metadata": {},
   "outputs": [
    {
     "data": {
      "image/png": "[encoded data removed]",
      "text/plain": [
       "<Figure size 432x288 with 1 Axes>"
      ]
     },
     "metadata": {
      "needs_background": "light"
     },
     "output_type": "display_data"
    }
   ],
   "source": [
    "#http://www.freddiemac.com/pmms/\n",
    "#http://www.freddiemac.com/pmms/archive.html?year=2020\n",
    "\n",
    "#gather rates\n",
    "mort_rates_2020 = pd.read_excel('/Users/daniellicht/Downloads/historicalweeklydata.xls', 'Full History')\n",
    "mort_rates_2021 = pd.read_excel('/Users/daniellicht/Downloads/historicalweeklydata.xls', '1PMMS2021')\n",
    "mort_rates_2020 = mort_rates_2020.iloc[2547:2598][:]\n",
    "mort_rates_2021 = mort_rates_2021.iloc[0:8][:]\n",
    "\n",
    "#combine 2020 w jan. 2021\n",
    "mort_rates = pd.concat([mort_rates_2020, mort_rates_2021])\n",
    "\n",
    "#transform 5-year rates to daily values\n",
    "mort_rates_5yr = mort_rates.loc[:][\"U.S. 5/1 ARM\"]\n",
    "mort_rates_5yr = mort_rates_5yr.iloc[:-4]\n",
    "mort_rates_5yr.index = range(54)\n",
    "\n",
    "mort_rates_daily_5yr = []\n",
    "for i in range(len(mort_rates_5yr)-1):\n",
    "    mort_rates_daily_5yr += vals(mort_rates_5yr[i], mort_rates_5yr[i+1], 7)\n",
    "\n",
    "#include 1/22/20 and 1/28/20-1/31/21\n",
    "mort_rates_daily_5yr.insert(0, vals(3.39, 3.28, 7)[-1])\n",
    "mort_rates_daily_5yr.extend(vals(2.8, 2.78, 7)[:4])\n",
    "mort_rates_daily_5yr = pd.Series(data=mort_rates_daily_5yr, index=date_index)\n",
    "mort_rates_daily_5yr = mort_rates_daily_5yr.shift(1)\n",
    "mort_rates_daily_5yr.iloc[0] = 0\n",
    "\n",
    "#transform 15-year rates to daily values\n",
    "mort_rates_15yr =  mort_rates.loc[:][\"U.S. 15 yr FRM\"]\n",
    "mort_rates_15yr = mort_rates_15yr.iloc[:-4]\n",
    "mort_rates_15yr.index = range(54)\n",
    "mort_rates_daily_15yr = []\n",
    "for i in range(len(mort_rates_15yr)-1):\n",
    "    mort_rates_daily_15yr += vals(mort_rates_15yr[i], mort_rates_15yr[i+1], 7)\n",
    "    \n",
    "#include 1/22/20 and 1/28/20-1/31/21\n",
    "mort_rates_daily_15yr.insert(0, vals(3.09, 3.04, 7)[-1])\n",
    "mort_rates_daily_15yr.extend(vals(2.2, 2.21, 7)[:4])\n",
    "mort_rates_daily_15yr = pd.Series(data=mort_rates_daily_15yr, index=date_index)\n",
    "mort_rates_daily_15yr = mort_rates_daily_15yr.shift(1)\n",
    "mort_rates_daily_15yr.iloc[0] = 0\n",
    "\n",
    "plt.plot(mort_rates_daily_5yr.iloc[1:])\n",
    "plt.plot(mort_rates_daily_15yr.iloc[1:])\n",
    "plt.show()\n"
   ]
  },
  {
   "cell_type": "code",
   "execution_count": 37,
   "metadata": {},
   "outputs": [
    {
     "name": "stdout",
     "output_type": "stream",
     "text": [
      "2020-01-22            0.0\n",
      "2020-01-23          557.0\n",
      "2020-01-24          655.0\n",
      "2020-01-25          941.0\n",
      "2020-01-26         1433.0\n",
      "                 ...     \n",
      "2021-01-27    100269237.0\n",
      "2021-01-28    100866518.0\n",
      "2021-01-29    101480537.0\n",
      "2021-01-30    102070241.0\n",
      "2021-01-31    102585112.0\n",
      "Freq: D, Length: 376, dtype: float64\n"
     ]
    }
   ],
   "source": [
    "\n"
   ]
  },
  {
   "cell_type": "code",
   "execution_count": 38,
   "metadata": {},
   "outputs": [],
   "source": [
    "# names = [\"BTC\", \"BCH\", \"LTC\", \"ETC\", \"ADA\", \"EOS\", \"LINK\", \"BNB\", \"ZRX\", \"NMR\", \"ENJ\", \"SC\", \"BAT\", \"STEEM\", \"FUN\"]\n",
    "# len(names)\n",
    "names = [\"Currency\", \"Infrastructure\", \"Financial\", \"Services\", \"Media & Ent.\"]"
   ]
  },
  {
   "cell_type": "code",
   "execution_count": 39,
   "metadata": {
    "scrolled": true
   },
   "outputs": [
    {
     "data": {
      "text/plain": [
       "2020-01-22    0.007903\n",
       "2020-01-23   -0.055357\n",
       "2020-01-24   -0.006028\n",
       "2020-01-25   -0.019910\n",
       "2020-01-26    0.070645\n",
       "                ...   \n",
       "2021-01-27   -0.091064\n",
       "2021-01-28    0.086776\n",
       "2021-01-29    0.014194\n",
       "2021-01-30    0.005092\n",
       "2021-01-31   -0.035544\n",
       "Freq: D, Name: close, Length: 376, dtype: float64"
      ]
     },
     "execution_count": 39,
     "metadata": {},
     "output_type": "execute_result"
    }
   ],
   "source": [
    "# strin_vals = list(date_to_avg.values())[20:-5]  #process stringency scores for LSTM input\n",
    "# strin_vals[0]=0\n",
    "# stringency = pd.Series(data=strin_vals, index=date_index)\n",
    "# for idx in range(len(snp)):       #fill missing daily vals w/previous day's val\n",
    "#     if np.isnan(snp[idx]):\n",
    "#         snp[idx] = snp[idx-1]\n",
    "        \n",
    "# #create map of coin names to inputs and output for each coin to be fit in LSTM\n",
    "# datasets = {}\n",
    "# for idx in range(len(names)):\n",
    "#     #for now, skipping coins lacking sufficient datapoints\n",
    "#     if names[idx]=='NMR' or names[idx]=='SC' or names[idx]=='BCH' or names[idx]=='FUN':\n",
    "#         continue\n",
    "#     coin_2020 = coins[idx][175:459]\n",
    "# #     print(coins[idx])\n",
    "#     coin_2020.index=date_index   #.set_index(index=date_index)\n",
    "#     shifted_coin = coin_2020.shift(1)\n",
    "#     shifted_coin.iloc[0] = 0\n",
    "#     datasets[names[idx]] = pd.DataFrame({'Coin Shifted': shifted_coin, 'S&P': snp, 'Gov Stringency': stringency,  'Coin': coin_2020})\n",
    "# # print(datasets['BTC'])\n",
    "pct_change[0]\n"
   ]
  },
  {
   "cell_type": "code",
   "execution_count": 83,
   "metadata": {},
   "outputs": [
    {
     "name": "stdout",
     "output_type": "stream",
     "text": [
      "            Sector Shifted          S&P  Gov Stringency  New Cases  \\\n",
      "2020-01-22        0.000000     0.000000        0.000000      0.000   \n",
      "2020-01-23       -0.004630  3321.750000        2.282337      0.000   \n",
      "2020-01-24       -0.036765  3325.540039        2.624565      0.013   \n",
      "2020-01-25        0.019076  3295.469971        2.851033      0.037   \n",
      "2020-01-26       -0.030432  3295.469971        3.193207      0.063   \n",
      "...                    ...          ...             ...        ...   \n",
      "2021-01-27        0.009822  3849.620117       56.978519     71.215   \n",
      "2021-01-28       -0.078110  3750.770020       57.196418     76.626   \n",
      "2021-01-29        0.087187  3787.379883       56.744242     78.773   \n",
      "2021-01-30        0.017557  3714.239990       56.190081     75.654   \n",
      "2021-01-31        0.041003  3714.239990       56.392909     66.053   \n",
      "\n",
      "            New Deaths  Unemployment  U.S. 5/1 ARM  U.S. 15 yr FRM    Sector  \n",
      "2020-01-22       0.000      0.000000      0.000000        0.000000 -0.004630  \n",
      "2020-01-23       0.000      3.532258      3.295714        3.047143 -0.036765  \n",
      "2020-01-24       0.000      3.529032      3.280000        3.040000  0.019076  \n",
      "2020-01-25       0.001      3.525806      3.274286        3.034286 -0.030432  \n",
      "2020-01-26       0.002      3.522581      3.268571        3.028571  0.042557  \n",
      "...                ...           ...           ...             ...       ...  \n",
      "2021-01-27       2.218      6.700000      2.800000        2.202857 -0.078110  \n",
      "2021-01-28       2.134      6.700000      2.800000        2.201429  0.087187  \n",
      "2021-01-29       2.180      6.700000      2.800000        2.200000  0.017557  \n",
      "2021-01-30       1.910      6.700000      2.797143        2.201429  0.041003  \n",
      "2021-01-31       1.735      6.700000      2.794286        2.202857 -0.033722  \n",
      "\n",
      "[376 rows x 9 columns]\n"
     ]
    }
   ],
   "source": [
    "strin_vals = list(date_to_avg.values())[22:]  #process stringency scores for LSTM input\n",
    "strin_vals.insert(0,0)\n",
    "stringency = pd.Series(data=strin_vals, index=date_index)\n",
    "for idx in range(len(snp)):       #fill missing daily vals w/previous day's val\n",
    "    if np.isnan(snp[idx]):\n",
    "        snp[idx] = snp[idx-1]\n",
    "        \n",
    "#create map of coin names to inputs and output for each coin to be fit in LSTM\n",
    "datasets = {}\n",
    "for idx in range(5):\n",
    "    sector_2020 = pct_change[idx]     \n",
    "    sector_2020.index=date_index   \n",
    "    shifted_sector = sector_2020.shift(1)\n",
    "    shifted_sector.iloc[0] = 0\n",
    "    datasets[names[idx]] = pd.DataFrame({'Sector Shifted': shifted_sector,\n",
    "                                         'S&P': snp,\n",
    "                                         'Gov Stringency': stringency,\n",
    "                                         'New Cases': global_cases,\n",
    "                                         'New Deaths': global_deaths,\n",
    "                                         'Unemployment': unemployment,\n",
    "                                         'U.S. 5/1 ARM': mort_rates_daily_5yr,\n",
    "                                         'U.S. 15 yr FRM': mort_rates_daily_15yr,\n",
    "                                         'Sector': sector_2020})\n",
    "print(datasets['Infrastructure'])\n"
   ]
  },
  {
   "cell_type": "markdown",
   "metadata": {},
   "source": [
    "##### Example of LSTM being run on Bitcoin pricing"
   ]
  },
  {
   "cell_type": "code",
   "execution_count": 84,
   "metadata": {},
   "outputs": [],
   "source": [
    "scaler = MinMaxScaler(feature_range=(0, 1))\n",
    "def prep(dataset):\n",
    "\n",
    "    # scale inputs and output to [0, 1] range to improve performance\n",
    "    scaled = scaler.fit_transform(dataset.values)\n",
    "    inverted_X = scaler.inverse_transform(scaled)\n",
    "    values = scaled\n",
    "\n",
    "    # split into train and test sets\n",
    "    train_size = int(num_days*0.6)\n",
    "    test_size = num_days-train_size\n",
    "\n",
    "    train = values[:train_size, :]\n",
    "\n",
    "    test = values[train_size:, :]\n",
    "    # split into input and outputs\n",
    "    train_X, train_y = train[:, :-1], train[:, -1]\n",
    "    test_X, test_y = test[:, :-1], test[:, -1]\n",
    "\n",
    "    # reshape input to be 3D [samples, timesteps, features]\n",
    "    train_X = train_X.reshape((train_X.shape[0], 1, train_X.shape[1]))\n",
    "    test_X = test_X.reshape((test_X.shape[0], 1, test_X.shape[1]))\n",
    "    return inverted_X, values, train, test, train_X, train_y, test_X, test_y\n",
    "inverted_X, values, train, test, train_X, train_y, test_X, test_y = prep(datasets['Infrastructure'])\n"
   ]
  },
  {
   "cell_type": "code",
   "execution_count": 130,
   "metadata": {},
   "outputs": [
    {
     "name": "stdout",
     "output_type": "stream",
     "text": [
      "Epoch 1/30\n",
      "57/57 - 0s - loss: 0.3970 - val_loss: 0.1953\n",
      "Epoch 2/30\n",
      "57/57 - 0s - loss: 0.2251 - val_loss: 0.0818\n",
      "Epoch 3/30\n",
      "57/57 - 0s - loss: 0.1401 - val_loss: 0.0332\n",
      "Epoch 4/30\n",
      "57/57 - 0s - loss: 0.1095 - val_loss: 0.0152\n",
      "Epoch 5/30\n",
      "57/57 - 0s - loss: 0.0929 - val_loss: 0.0100\n",
      "Epoch 6/30\n",
      "57/57 - 0s - loss: 0.0786 - val_loss: 0.0079\n",
      "Epoch 7/30\n",
      "57/57 - 0s - loss: 0.0579 - val_loss: 0.0093\n",
      "Epoch 8/30\n",
      "57/57 - 0s - loss: 0.0570 - val_loss: 0.0070\n",
      "Epoch 9/30\n",
      "57/57 - 0s - loss: 0.0544 - val_loss: 0.0068\n",
      "Epoch 10/30\n",
      "57/57 - 0s - loss: 0.0432 - val_loss: 0.0067\n",
      "Epoch 11/30\n",
      "57/57 - 0s - loss: 0.0422 - val_loss: 0.0056\n",
      "Epoch 12/30\n",
      "57/57 - 0s - loss: 0.0386 - val_loss: 0.0068\n",
      "Epoch 13/30\n",
      "57/57 - 0s - loss: 0.0319 - val_loss: 0.0057\n",
      "Epoch 14/30\n",
      "57/57 - 0s - loss: 0.0325 - val_loss: 0.0061\n"
     ]
    }
   ],
   "source": [
    "#LSTM ARCHITECTURE\n",
    "model = Sequential()\n",
    "model.add(LSTM(4, input_shape=(train_X.shape[1], train_X.shape[2])))\n",
    "model.add(Dropout(0.5))\n",
    "model.add(Dense(1, activation='linear'))\n",
    "opt = SGD(lr=0.01, momentum=0.9)\n",
    "model.compile(loss='mean_squared_error', optimizer='adam')\n",
    "\n",
    "\n",
    "es_callback1 = EarlyStopping(monitor='val_loss', patience=2.5)\n",
    "es_callback2 = EarlyStopping(monitor='loss', patience=2.5)\n",
    "# fit model\n",
    "history = model.fit(train_X, train_y, epochs=30, batch_size=4, validation_data=(test_X, test_y), verbose=2, shuffle=False, callbacks=[es_callback1, es_callback2])\n"
   ]
  },
  {
   "cell_type": "code",
   "execution_count": 131,
   "metadata": {},
   "outputs": [
    {
     "data": {
      "image/png": "[encoded data removed]",
      "text/plain": [
       "<Figure size 432x288 with 1 Axes>"
      ]
     },
     "metadata": {
      "needs_background": "light"
     },
     "output_type": "display_data"
    }
   ],
   "source": [
    "#GRAPH OF LOSS FUNCTIONS\n",
    "plt.plot(history.history['loss'], label='train')\n",
    "plt.plot(history.history['val_loss'], label='test')\n",
    "plt.legend()\n",
    "plt.show()\n"
   ]
  },
  {
   "cell_type": "code",
   "execution_count": 132,
   "metadata": {},
   "outputs": [],
   "source": [
    "#Currency, Financial, Infrastructure, Services, Media & Ent.\n",
    "inverted_X, values, train, test, train_X, train_y, test_X, test_y = prep(datasets['Media & Ent.'])"
   ]
  },
  {
   "cell_type": "code",
   "execution_count": 133,
   "metadata": {},
   "outputs": [],
   "source": [
    "#PLOT PREDICTIONS FOR ENTIRE TIME SERIES AGAINST ACTUAL VALUES\n",
    "predictions = []\n",
    "test_set = datasets['Media & Ent.']\n",
    "for i in range(int(len(test_set.values)*0.4)):\n",
    "\n",
    "    X, y = test[i, 0:-1], test[i, -1]\n",
    "    \n",
    "    X = X.reshape(1, 1, len(X))\n",
    "    yhat = model.predict(X, batch_size=1)\n",
    "    yhat = yhat[0,0]\n",
    "    \n",
    "    #invert scaler\n",
    "    new_row = X[0][0]\n",
    "    new_row = np.concatenate((new_row, [yhat]))\n",
    "    array = np.array(new_row)\n",
    "    array = array.reshape(1, len(array))\n",
    "    inverted = scaler.inverse_transform(array)\n",
    "    yhat = inverted[0, -1]\n",
    "    yhat = yhat+inverted_X[-(len(test)-i)]\n",
    "    predictions.append(yhat)\n"
   ]
  },
  {
   "cell_type": "markdown",
   "metadata": {},
   "source": [
    "##### Predictions are blue, actual % change is red. Scales of graph are off"
   ]
  },
  {
   "cell_type": "code",
   "execution_count": 134,
   "metadata": {},
   "outputs": [
    {
     "data": {
      "image/png": "[encoded data removed]",
      "text/plain": [
       "<Figure size 432x288 with 1 Axes>"
      ]
     },
     "metadata": {
      "needs_background": "light"
     },
     "output_type": "display_data"
    }
   ],
   "source": [
    "prediction_graph_vals = np.array([prediction[-1] for prediction in predictions])\n",
    "plt.plot(inverted_X[226:,:-8], color='red') #switch 1 with 226, 301 for 80-20 split\n",
    "plt.plot(prediction_graph_vals[1:], color='blue')\n",
    "plt.show()"
   ]
  },
  {
   "cell_type": "code",
   "execution_count": 135,
   "metadata": {},
   "outputs": [],
   "source": [
    "#     X, y = values[i, 0:-1], values[i, -1]\n",
    "#     X = X.reshape(1, 1, len(X))\n",
    "#     yhat = model.predict(X, batch_size=1)\n",
    "#     yhat = yhat[0,0]\n",
    "    \n",
    "#     #invert scaler\n",
    "#     new_row = X[0][0]\n",
    "#     new_row = np.concatenate((new_row, [yhat]))\n",
    "#     array = np.array(new_row)\n",
    "#     array = array.reshape(1, len(array))\n",
    "#     inverted = scaler.inverse_transform(array)\n",
    "#     yhat = inverted[0, -1]\n",
    "#     yhat = yhat+dataset.values[-(len(dataset.values)-i)]\n",
    "#     predictions.append(yhat)\n",
    "    \n",
    "#RUN COMMENTED CODE TO JUST SHOW PREDICTIONS ON TEST DATA"
   ]
  },
  {
   "cell_type": "code",
   "execution_count": null,
   "metadata": {},
   "outputs": [],
   "source": []
  },
  {
   "cell_type": "code",
   "execution_count": null,
   "metadata": {},
   "outputs": [],
   "source": []
  },
  {
   "cell_type": "code",
   "execution_count": null,
   "metadata": {},
   "outputs": [],
   "source": []
  }
 ],
 "metadata": {
  "kernelspec": {
   "display_name": "Python 3",
   "language": "python",
   "name": "python3"
  },
  "language_info": {
   "codemirror_mode": {
    "name": "ipython",
    "version": 3
   },
   "file_extension": ".py",
   "mimetype": "text/x-python",
   "name": "python",
   "nbconvert_exporter": "python",
   "pygments_lexer": "ipython3",
   "version": "3.8.3"
  }
 },
 "nbformat": 4,
 "nbformat_minor": 4
}
